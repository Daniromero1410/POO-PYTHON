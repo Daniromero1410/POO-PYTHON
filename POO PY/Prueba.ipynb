{
 "cells": [
  {
   "cell_type": "code",
   "execution_count": 27,
   "metadata": {},
   "outputs": [
    {
     "ename": "NameError",
     "evalue": "name 'arduino' is not defined",
     "output_type": "error",
     "traceback": [
      "\u001b[1;31m---------------------------------------------------------------------------\u001b[0m",
      "\u001b[1;31mNameError\u001b[0m                                 Traceback (most recent call last)",
      "\u001b[1;32mc:\\Users\\57310\\Documents\\Proyectos\\IA_LEARN\\Prueba.ipynb Cell 1\u001b[0m line \u001b[0;36m5\n\u001b[0;32m      <a href='vscode-notebook-cell:/c%3A/Users/57310/Documents/Proyectos/IA_LEARN/Prueba.ipynb#W1sZmlsZQ%3D%3D?line=1'>2</a>\u001b[0m \u001b[39mimport\u001b[39;00m \u001b[39mmatplotlib\u001b[39;00m\u001b[39m.\u001b[39;00m\u001b[39mpyplot\u001b[39;00m \u001b[39mas\u001b[39;00m \u001b[39mplt\u001b[39;00m\n\u001b[0;32m      <a href='vscode-notebook-cell:/c%3A/Users/57310/Documents/Proyectos/IA_LEARN/Prueba.ipynb#W1sZmlsZQ%3D%3D?line=2'>3</a>\u001b[0m \u001b[39mimport\u001b[39;00m \u001b[39mtime\u001b[39;00m\n\u001b[1;32m----> <a href='vscode-notebook-cell:/c%3A/Users/57310/Documents/Proyectos/IA_LEARN/Prueba.ipynb#W1sZmlsZQ%3D%3D?line=4'>5</a>\u001b[0m arduino \u001b[39m=\u001b[39m arduino\u001b[39m.\u001b[39mSerial(\u001b[39m'\u001b[39m\u001b[39mCOM3\u001b[39m\u001b[39m'\u001b[39m, \u001b[39m9600\u001b[39m)\n\u001b[0;32m      <a href='vscode-notebook-cell:/c%3A/Users/57310/Documents/Proyectos/IA_LEARN/Prueba.ipynb#W1sZmlsZQ%3D%3D?line=6'>7</a>\u001b[0m x_values \u001b[39m=\u001b[39m []\n\u001b[0;32m      <a href='vscode-notebook-cell:/c%3A/Users/57310/Documents/Proyectos/IA_LEARN/Prueba.ipynb#W1sZmlsZQ%3D%3D?line=7'>8</a>\u001b[0m y_values \u001b[39m=\u001b[39m [] \n",
      "\u001b[1;31mNameError\u001b[0m: name 'arduino' is not defined"
     ]
    }
   ],
   "source": [
    "import serial\n",
    "import matplotlib.pyplot as plt\n",
    "import time\n",
    "\n",
    "arduino = serial('COM3', 9600)\n",
    "\n",
    "x_values = []\n",
    "y_values = [] \n",
    "z_values = []\n",
    "\n",
    "is_loading = True\n",
    "is_graph_visible = False\n",
    "start_time = time.time() \n",
    "\n",
    "while True:\n",
    "\n",
    "    if is_loading:\n",
    "        # Pantalla de carga \n",
    "        plt.clf()\n",
    "        plt.title(\"Cargando\", fontsize=30)\n",
    "        plt.draw()\n",
    "        plt.pause(0.001)\n",
    "\n",
    "        # Verificar si ha pasado 1 segundo\n",
    "        if time.time() - start_time >= 1:\n",
    "            is_loading = False\n",
    "            is_graph_visible = True\n",
    "\n",
    "    if is_graph_visible:\n",
    "        # Leer datos del puerto serial\n",
    "        data = arduino.readline().decode('utf-8').rstrip()\n",
    "        \n",
    "        if data:\n",
    "            # Extraer valores de X, Y, Z\n",
    "            x, y, z = data.split(\",\")\n",
    "            \n",
    "            # Convertir a float\n",
    "            x = float(x[2:])  \n",
    "            y = float(y[2:])\n",
    "            z = float(z[2:])\n",
    "            \n",
    "            # Mapear al rango del gráfico  \n",
    "            x = (x + 80) / 160 * 100\n",
    "            y = (y + 80) / 160 * 100 \n",
    "            z = (z + 80) / 160 * 100\n",
    "            \n",
    "            # Guardar para graficar\n",
    "            x_values.append(x) \n",
    "            y_values.append(y)\n",
    "            z_values.append(z)\n",
    "\n",
    "            # Graficar\n",
    "            plt.clf()\n",
    "            plt.title(\"SISMOGRAFO FISICA DE ONDAS UDES\")\n",
    "            plt.plot(x_values, 'b')\n",
    "            plt.plot(y_values, 'g') \n",
    "            plt.plot(z_values, 'r')\n",
    "            plt.ylim(0, 100)\n",
    "            plt.draw()\n",
    "            plt.pause(0.001)\n",
    "\n",
    "\n",
    "            \n",
    "ser.close()\n"
   ]
  },
  {
   "cell_type": "code",
   "execution_count": null,
   "metadata": {},
   "outputs": [],
   "source": []
  }
 ],
 "metadata": {
  "kernelspec": {
   "display_name": "Python 3",
   "language": "python",
   "name": "python3"
  },
  "language_info": {
   "codemirror_mode": {
    "name": "ipython",
    "version": 3
   },
   "file_extension": ".py",
   "mimetype": "text/x-python",
   "name": "python",
   "nbconvert_exporter": "python",
   "pygments_lexer": "ipython3",
   "version": "3.11.6"
  }
 },
 "nbformat": 4,
 "nbformat_minor": 2
}
